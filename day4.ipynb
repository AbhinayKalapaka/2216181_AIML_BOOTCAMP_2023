{
  "nbformat": 4,
  "nbformat_minor": 0,
  "metadata": {
    "colab": {
      "provenance": [],
      "authorship_tag": "ABX9TyP2fVwgC/qY8nQrLc3UH+ct",
      "include_colab_link": true
    },
    "kernelspec": {
      "name": "python3",
      "display_name": "Python 3"
    },
    "language_info": {
      "name": "python"
    }
  },
  "cells": [
    {
      "cell_type": "markdown",
      "metadata": {
        "id": "view-in-github",
        "colab_type": "text"
      },
      "source": [
        "<a href=\"https://colab.research.google.com/github/AbhinayKalapaka/AI-ML-BOOTCAMP/blob/main/day4.ipynb\" target=\"_parent\"><img src=\"https://colab.research.google.com/assets/colab-badge.svg\" alt=\"Open In Colab\"/></a>"
      ]
    },
    {
      "cell_type": "code",
      "execution_count": 7,
      "metadata": {
        "colab": {
          "base_uri": "https://localhost:8080/"
        },
        "id": "FZ3bJQ6afEaI",
        "outputId": "bf44a10d-6049-4090-ce38-500d8522374c"
      },
      "outputs": [
        {
          "output_type": "stream",
          "name": "stdout",
          "text": [
            "true\n",
            "10\n",
            "false\n",
            "enter age16\n",
            "full ticket\n"
          ]
        }
      ],
      "source": [
        "#decision making\n",
        "\n",
        "#if\n",
        "var=10\n",
        "if var>0:\n",
        "  print(\"true\")\n",
        "print(var)\n",
        "\n",
        "#if--else statement\n",
        "var=-7\n",
        "if var>0:\n",
        "  print(\"true\")\n",
        "else:\n",
        "  print(\"false\")\n",
        "\n",
        "#nested if statement\n",
        "age=float(input(\"enter age\"))\n",
        "if age>0:\n",
        "  if age>0 and age<=15:\n",
        "    if age>0 and age<=2:\n",
        "      print(\"free ticket\")\n",
        "  elif age>0 and age<15:\n",
        "    print(\"half ticket\")\n",
        "  elif age>=15 and age<60:\n",
        "    print(\"full ticket\")\n",
        "  elif age>=60:\n",
        "    print(\"discounted ticket\")"
      ]
    },
    {
      "cell_type": "code",
      "source": [
        "#loops\n",
        "num=[11,23,35,46,57,68,78,89,90]\n",
        "for i in range(11,100):\n",
        "  print(i)\n",
        "\n",
        "sum=0\n",
        "for val in num:\n",
        "  sum=sum+val\n",
        "print(\"the sum is\",sum)\n",
        "for i in range(11,57,35):\n",
        "  print(i)"
      ],
      "metadata": {
        "colab": {
          "base_uri": "https://localhost:8080/"
        },
        "id": "Xz6FBg7khLu5",
        "outputId": "da59f63f-fb72-4b0f-dc9c-92b33767f198"
      },
      "execution_count": null,
      "outputs": [
        {
          "output_type": "stream",
          "name": "stdout",
          "text": [
            "11\n",
            "12\n",
            "13\n",
            "14\n",
            "15\n",
            "16\n",
            "17\n",
            "18\n",
            "19\n",
            "20\n",
            "21\n",
            "22\n",
            "23\n",
            "24\n",
            "25\n",
            "26\n",
            "27\n",
            "28\n",
            "29\n",
            "30\n",
            "31\n",
            "32\n",
            "33\n",
            "34\n",
            "35\n",
            "36\n",
            "37\n",
            "38\n",
            "39\n",
            "40\n",
            "41\n",
            "42\n",
            "43\n",
            "44\n",
            "45\n",
            "46\n",
            "47\n",
            "48\n",
            "49\n",
            "50\n",
            "51\n",
            "52\n",
            "53\n",
            "54\n",
            "55\n",
            "56\n",
            "57\n",
            "58\n",
            "59\n",
            "60\n",
            "61\n",
            "62\n",
            "63\n",
            "64\n",
            "65\n",
            "66\n",
            "67\n",
            "68\n",
            "69\n",
            "70\n",
            "71\n",
            "72\n",
            "73\n",
            "74\n",
            "75\n",
            "76\n",
            "77\n",
            "78\n",
            "79\n",
            "80\n",
            "81\n",
            "82\n",
            "83\n",
            "84\n",
            "85\n",
            "86\n",
            "87\n",
            "88\n",
            "89\n",
            "90\n",
            "91\n",
            "92\n",
            "93\n",
            "94\n",
            "95\n",
            "96\n",
            "97\n",
            "98\n",
            "99\n",
            "the sum is 497\n",
            "11\n",
            "46\n"
          ]
        }
      ]
    },
    {
      "cell_type": "code",
      "source": [
        "#while loop\n",
        "count=1\n",
        "while(count<11):\n",
        "  print(count)\n",
        "  count=count+1"
      ],
      "metadata": {
        "colab": {
          "base_uri": "https://localhost:8080/"
        },
        "id": "S39c2jWQiiqT",
        "outputId": "880be194-f879-4660-c549-d6ffc34c4c97"
      },
      "execution_count": null,
      "outputs": [
        {
          "output_type": "stream",
          "name": "stdout",
          "text": [
            "1\n",
            "2\n",
            "3\n",
            "4\n",
            "5\n",
            "6\n",
            "7\n",
            "8\n",
            "9\n",
            "10\n"
          ]
        }
      ]
    },
    {
      "cell_type": "code",
      "source": [
        "#nested loops\n",
        "\n",
        "#nested for\n",
        "a=[[23,45,12],[12,34,65],[32,87,56]]\n",
        "b=[[12,34,56],[43,65,76],[21,34,80]]\n",
        "\n",
        "result=[[0,0,0],[0,0,0],[0,0,0]]\n",
        "for i in range(len(a)):\n",
        "  for j in range(len(a[0])):\n",
        "    result[i][j]=a[i][j]+b[i][j]\n",
        "    for r in result:\n",
        "      print(r)"
      ],
      "metadata": {
        "colab": {
          "base_uri": "https://localhost:8080/"
        },
        "id": "vTOyjOrJi2-v",
        "outputId": "54ccbb34-48b1-4b69-8c82-936b669d7a91"
      },
      "execution_count": 8,
      "outputs": [
        {
          "output_type": "stream",
          "name": "stdout",
          "text": [
            "[35, 0, 0]\n",
            "[0, 0, 0]\n",
            "[0, 0, 0]\n",
            "[35, 79, 0]\n",
            "[0, 0, 0]\n",
            "[0, 0, 0]\n",
            "[35, 79, 68]\n",
            "[0, 0, 0]\n",
            "[0, 0, 0]\n",
            "[35, 79, 68]\n",
            "[55, 0, 0]\n",
            "[0, 0, 0]\n",
            "[35, 79, 68]\n",
            "[55, 99, 0]\n",
            "[0, 0, 0]\n",
            "[35, 79, 68]\n",
            "[55, 99, 141]\n",
            "[0, 0, 0]\n",
            "[35, 79, 68]\n",
            "[55, 99, 141]\n",
            "[53, 0, 0]\n",
            "[35, 79, 68]\n",
            "[55, 99, 141]\n",
            "[53, 121, 0]\n",
            "[35, 79, 68]\n",
            "[55, 99, 141]\n",
            "[53, 121, 136]\n"
          ]
        }
      ]
    },
    {
      "cell_type": "code",
      "source": [
        "#nested while loop\n",
        "number=int(input(\"enter which table u need\"))\n",
        "i=1\n",
        "while(i<=number):\n",
        "  print(f\"table{i}\")\n",
        "  j=1\n",
        "  while(j<=10):\n",
        "    print(f\"{i}*{j}={i*j}\")\n",
        "    j=j+1\n",
        "  print(\"-----------\")\n",
        "  i=i+1"
      ],
      "metadata": {
        "colab": {
          "base_uri": "https://localhost:8080/"
        },
        "id": "oNHokhtExZhR",
        "outputId": "43c1d4ba-6776-45ac-9385-0664baa5eabf"
      },
      "execution_count": 15,
      "outputs": [
        {
          "output_type": "stream",
          "name": "stdout",
          "text": [
            "enter which table u need3\n",
            "table1\n",
            "1*1=1\n",
            "1*2=2\n",
            "1*3=3\n",
            "1*4=4\n",
            "1*5=5\n",
            "1*6=6\n",
            "1*7=7\n",
            "1*8=8\n",
            "1*9=9\n",
            "1*10=10\n",
            "-----------\n",
            "table2\n",
            "2*1=2\n",
            "2*2=4\n",
            "2*3=6\n",
            "2*4=8\n",
            "2*5=10\n",
            "2*6=12\n",
            "2*7=14\n",
            "2*8=16\n",
            "2*9=18\n",
            "2*10=20\n",
            "-----------\n",
            "table3\n",
            "3*1=3\n",
            "3*2=6\n",
            "3*3=9\n",
            "3*4=12\n",
            "3*5=15\n",
            "3*6=18\n",
            "3*7=21\n",
            "3*8=24\n",
            "3*9=27\n",
            "3*10=30\n",
            "-----------\n"
          ]
        }
      ]
    },
    {
      "cell_type": "code",
      "source": [
        "#control statement\n",
        "\n",
        "#break\n",
        "for i in \"python\":\n",
        "  if i==\"n\":\n",
        "    break\n",
        "  print(\"current letter\",i)\n",
        "print(\"------\")\n",
        "#continue\n",
        "for i in \"python\":\n",
        "  if i==\"n\":\n",
        "    continue\n",
        "  print(\"current letter\",i)\n",
        "print(\"------\")\n",
        "#pass\n",
        "for i in \"python\":\n",
        "  if i==\"n\":\n",
        "    pass\n",
        "  print(\"current letter\",i)"
      ],
      "metadata": {
        "colab": {
          "base_uri": "https://localhost:8080/"
        },
        "id": "A8wrKFmqytg9",
        "outputId": "8e6faebb-06a6-4ca1-8bcf-d07ba91973e6"
      },
      "execution_count": 19,
      "outputs": [
        {
          "output_type": "stream",
          "name": "stdout",
          "text": [
            "current letter p\n",
            "current letter y\n",
            "current letter t\n",
            "current letter h\n",
            "current letter o\n",
            "------\n",
            "current letter p\n",
            "current letter y\n",
            "current letter t\n",
            "current letter h\n",
            "current letter o\n",
            "------\n",
            "current letter p\n",
            "current letter y\n",
            "current letter t\n",
            "current letter h\n",
            "current letter o\n",
            "current letter n\n"
          ]
        }
      ]
    },
    {
      "cell_type": "code",
      "source": [
        "#functions\n",
        "\n",
        "def greet(name):\n",
        "  '''this is a greet function'''\n",
        "  print(\"hello,\\t\"+name+\"\\t python\")\n",
        "greet(\"start\")"
      ],
      "metadata": {
        "colab": {
          "base_uri": "https://localhost:8080/"
        },
        "id": "UCENZf1C0VQv",
        "outputId": "9a56c28b-2483-405c-f023-7172d81c9817"
      },
      "execution_count": 22,
      "outputs": [
        {
          "output_type": "stream",
          "name": "stdout",
          "text": [
            "hello,\tstart\t python\n"
          ]
        }
      ]
    },
    {
      "cell_type": "code",
      "source": [
        "#default\n",
        "def A(a,b=1,c=2):\n",
        "  return a+b+c\n",
        "print(A(3))\n",
        "print(A(4,4,4))"
      ],
      "metadata": {
        "colab": {
          "base_uri": "https://localhost:8080/"
        },
        "id": "g56wuvFz0d8H",
        "outputId": "94564b9c-d21e-4e28-94da-13b82cb42735"
      },
      "execution_count": 23,
      "outputs": [
        {
          "output_type": "stream",
          "name": "stdout",
          "text": [
            "6\n",
            "12\n"
          ]
        }
      ]
    },
    {
      "cell_type": "code",
      "source": [
        "#keyword\n",
        "def A(a,b=1,c=2):\n",
        "  return a+b+c\n",
        "print(A(a=2,b=3))\n",
        "print(A(c=3,a=1,b=2))"
      ],
      "metadata": {
        "colab": {
          "base_uri": "https://localhost:8080/"
        },
        "id": "MAfPzUMo1s7N",
        "outputId": "f5bd7777-857e-4a0f-be5a-a470fe4e63b7"
      },
      "execution_count": 24,
      "outputs": [
        {
          "output_type": "stream",
          "name": "stdout",
          "text": [
            "7\n",
            "6\n"
          ]
        }
      ]
    },
    {
      "cell_type": "code",
      "source": [
        "#positional\n",
        "def A(a,b,c):\n",
        "  return a+b+c\n",
        "print(A(10,20,30))"
      ],
      "metadata": {
        "colab": {
          "base_uri": "https://localhost:8080/"
        },
        "id": "Wex96yt12P2m",
        "outputId": "2f256b24-70bb-4515-eb6f-0739e334c610"
      },
      "execution_count": 25,
      "outputs": [
        {
          "output_type": "stream",
          "name": "stdout",
          "text": [
            "60\n"
          ]
        }
      ]
    },
    {
      "cell_type": "code",
      "source": [
        "#arbitary positional\n",
        "def add_num(*n):\n",
        "  print(sum(n))\n",
        "add_num(1,2,3,4,5,6,7,8)"
      ],
      "metadata": {
        "colab": {
          "base_uri": "https://localhost:8080/"
        },
        "id": "--d9kQtX3NRX",
        "outputId": "0bf027e1-174a-42e8-d0cb-7749709e8ad9"
      },
      "execution_count": 26,
      "outputs": [
        {
          "output_type": "stream",
          "name": "stdout",
          "text": [
            "36\n"
          ]
        }
      ]
    },
    {
      "cell_type": "code",
      "source": [
        "#arbitary keywords\n",
        "def key_args(**kwargs):\n",
        "  return kwargs\n",
        "myd=key_args(apples=30,banana=20)\n",
        "print(myd['apples'])\n",
        "print(myd)"
      ],
      "metadata": {
        "colab": {
          "base_uri": "https://localhost:8080/"
        },
        "id": "A6bXl-my32Bm",
        "outputId": "15895c45-d6a9-4e57-cb06-96bbc5a0cd5f"
      },
      "execution_count": 27,
      "outputs": [
        {
          "output_type": "stream",
          "name": "stdout",
          "text": [
            "30\n",
            "{'apples': 30, 'banana': 20}\n"
          ]
        }
      ]
    },
    {
      "cell_type": "code",
      "source": [
        "#higher order functions\n",
        "def shout(text):\n",
        "  return text.upper()\n",
        "def whisper(text):\n",
        "  return text.lower()\n",
        "def explain(func):\n",
        "  greet=func(\"HeLlO, I aM leARNinG PYthoN\")\n",
        "  print(greet)\n",
        "explain(shout)\n",
        "explain(whisper)"
      ],
      "metadata": {
        "colab": {
          "base_uri": "https://localhost:8080/"
        },
        "id": "ql5BDdht4oVT",
        "outputId": "d261272a-6439-48a5-8471-6c2fbfaeb809"
      },
      "execution_count": 29,
      "outputs": [
        {
          "output_type": "stream",
          "name": "stdout",
          "text": [
            "HELLO, I AM LEARNING PYTHON\n",
            "hello, i am learning python\n"
          ]
        }
      ]
    }
  ]
}