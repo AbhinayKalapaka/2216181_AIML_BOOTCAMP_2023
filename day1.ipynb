{
  "nbformat": 4,
  "nbformat_minor": 0,
  "metadata": {
    "colab": {
      "provenance": [],
      "authorship_tag": "ABX9TyNHqQSueUDzlwYHoL6yecoy",
      "include_colab_link": true
    },
    "kernelspec": {
      "name": "python3",
      "display_name": "Python 3"
    },
    "language_info": {
      "name": "python"
    }
  },
  "cells": [
    {
      "cell_type": "markdown",
      "metadata": {
        "id": "view-in-github",
        "colab_type": "text"
      },
      "source": [
        "<a href=\"https://colab.research.google.com/github/AbhinayKalapaka/AI-ML-BOOTCAMP/blob/main/day1.ipynb\" target=\"_parent\"><img src=\"https://colab.research.google.com/assets/colab-badge.svg\" alt=\"Open In Colab\"/></a>"
      ]
    },
    {
      "cell_type": "code",
      "execution_count": null,
      "metadata": {
        "id": "OjiVoFjH9MeM",
        "colab": {
          "base_uri": "https://localhost:8080/"
        },
        "outputId": "574d4672-d766-4353-8244-18fcffd4642b"
      },
      "outputs": [
        {
          "output_type": "stream",
          "name": "stdout",
          "text": [
            "200 69.69 hi abhi\n",
            "20.0\n",
            "5.0\n"
          ]
        }
      ],
      "source": [
        "#variables\n",
        "a=200 #int\n",
        "amount=69.69 #float\n",
        "str1=\"hi\"\n",
        "str2=\"abhi\"\n",
        "'''this is a docstring'''\n",
        "comp=20+5j #complex\n",
        "print(a,amount,str1,str2)\n",
        "print(comp.real)\n",
        "print(comp.imag)"
      ]
    },
    {
      "cell_type": "code",
      "source": [
        "#datatypes\n",
        "#integer type\n",
        "a=50\n",
        "b=1+2j\n",
        "#float\n",
        "amount=200.17\n",
        "#text type\n",
        "str1=\"hello\"\n",
        "#sequence type\n",
        "li=[1,2,3,4]\n",
        "tup=(1,2,3,4)\n",
        "\n",
        "#set type\n",
        "set1={1,2,3,4}\n",
        "\n",
        "#mapping type\n",
        "my_dict={\"apple\":\"red\"}\n",
        "\n",
        "#none type\n",
        "x=NONE\n",
        "\n",
        "#binary type\n",
        "x=b\"hello\" #byte\n",
        "x=bytearray(5) #byte array\n",
        "x=memoryview(bytes(4)) #memory view\n"
      ],
      "metadata": {
        "id": "Bymn_EAs4Gsv"
      },
      "execution_count": null,
      "outputs": []
    },
    {
      "cell_type": "code",
      "source": [
        "#type casting or conversion\n",
        "b=2\n",
        "c=3.7\n",
        "d=int(c)\n",
        "e=float(b)\n",
        "print(d,e)\n",
        "\n",
        "#implicit conversion\n",
        "a=3\n",
        "f=4.5\n",
        "h=print(a+f)\n",
        "\n",
        "i=3\n",
        "s1=str(i)\n",
        "print(s1)\n",
        "j=int(s1)\n",
        "print(j)"
      ],
      "metadata": {
        "colab": {
          "base_uri": "https://localhost:8080/"
        },
        "id": "R4qCHiij6WIl",
        "outputId": "b188a948-7dda-45b3-ea34-5b8b3634fe7e"
      },
      "execution_count": null,
      "outputs": [
        {
          "output_type": "stream",
          "name": "stdout",
          "text": [
            "3 2.0\n",
            "7.5\n",
            "3\n",
            "3\n"
          ]
        }
      ]
    },
    {
      "cell_type": "code",
      "source": [],
      "metadata": {
        "id": "q31R0ACY773A"
      },
      "execution_count": null,
      "outputs": []
    }
  ]
}