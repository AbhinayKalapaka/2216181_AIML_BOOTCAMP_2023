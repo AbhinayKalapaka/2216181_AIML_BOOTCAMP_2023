{
  "nbformat": 4,
  "nbformat_minor": 0,
  "metadata": {
    "colab": {
      "provenance": [],
      "authorship_tag": "ABX9TyPSr9ENkJyyRc5YLFU4N4WP",
      "include_colab_link": true
    },
    "kernelspec": {
      "name": "python3",
      "display_name": "Python 3"
    },
    "language_info": {
      "name": "python"
    }
  },
  "cells": [
    {
      "cell_type": "markdown",
      "metadata": {
        "id": "view-in-github",
        "colab_type": "text"
      },
      "source": [
        "<a href=\"https://colab.research.google.com/github/AbhinayKalapaka/AI-ML-BOOTCAMP/blob/main/day3.ipynb\" target=\"_parent\"><img src=\"https://colab.research.google.com/assets/colab-badge.svg\" alt=\"Open In Colab\"/></a>"
      ]
    },
    {
      "cell_type": "code",
      "execution_count": null,
      "metadata": {
        "id": "ERpL0Cjco72M"
      },
      "outputs": [],
      "source": [
        "#tuples\n",
        "tup1=(11,22,33,44)\n",
        "tup2=(\"abhi\",2.3,7)\n",
        "tup3=(\"hi\",tup1,tup2)\n",
        "print(tup3)\n",
        "\n",
        "#tuple methods\n",
        "print(tup1.count())\n",
        "print(tup1.index(2))\n",
        "print(max(tup1))\n",
        "print(min(tup2))\n",
        "print(len(tup3))"
      ]
    },
    {
      "cell_type": "code",
      "source": [
        "#sets\n",
        "set1={33,12,33,44}\n",
        "set2={3,2.4,\"hello\"}\n",
        "\n",
        "list1=[11,21,77,55]\n",
        "print(list1)\n",
        "set3=set(list1)\n",
        "print(set3)\n",
        "#set methods\n",
        "set1.add(55)\n",
        "print(set1)\n",
        "\n",
        "set2.update([5,6])\n",
        "print(set2)\n",
        "\n",
        "set1.discard(11)\n",
        "print(set1)\n",
        "\n",
        "list2=list(set1)\n",
        "print(list2)\n",
        "\n",
        "#set operation\n",
        "c={11,22,33,44}\n",
        "d={44,55,66,77}\n",
        "\n",
        "#union\n",
        "print(c|d)\n",
        "print(c.union(d))\n",
        "print(d.union(c))\n",
        "\n",
        "#intersection\n",
        "print(c&d)\n",
        "print(c.intersection(d))\n",
        "print(d.intersection(c))\n",
        "\n",
        "#difference\n",
        "print(c-d)\n",
        "print(c.difference(d))\n",
        "print(d-c)\n",
        "print(d.difference(c))"
      ],
      "metadata": {
        "colab": {
          "base_uri": "https://localhost:8080/"
        },
        "id": "fzDmuHaIr69d",
        "outputId": "bd93231c-92b2-47d5-8279-f429b8fd24e6"
      },
      "execution_count": null,
      "outputs": [
        {
          "output_type": "stream",
          "name": "stdout",
          "text": [
            "[11, 21, 77, 55]\n",
            "{11, 77, 21, 55}\n",
            "{33, 12, 44, 55}\n",
            "{2.4, 3, 5, 6, 'hello'}\n",
            "{33, 12, 44, 55}\n",
            "[33, 12, 44, 55]\n",
            "{33, 66, 11, 44, 77, 22, 55}\n",
            "{33, 66, 11, 44, 77, 22, 55}\n",
            "{33, 66, 11, 44, 77, 22, 55}\n",
            "{44}\n",
            "{44}\n",
            "{44}\n",
            "{33, 11, 22}\n",
            "{33, 11, 22}\n",
            "{66, 77, 55}\n",
            "{66, 77, 55}\n"
          ]
        }
      ]
    },
    {
      "cell_type": "code",
      "source": [
        "#dictionaries\n",
        "dict1={'name':'abhi',212:'maths'}\n",
        "print(dict1['name'])\n",
        "print(dict1.keys())\n",
        "print(dict1.values())\n",
        "print(dict1.get(\"name\"))"
      ],
      "metadata": {
        "colab": {
          "base_uri": "https://localhost:8080/"
        },
        "id": "jBewx2-mym6g",
        "outputId": "deca9844-9931-499e-e951-7fa601fa16af"
      },
      "execution_count": null,
      "outputs": [
        {
          "output_type": "stream",
          "name": "stdout",
          "text": [
            "abhi\n",
            "dict_keys(['name', 212])\n",
            "dict_values(['abhi', 'maths'])\n",
            "abhi\n"
          ]
        }
      ]
    },
    {
      "cell_type": "code",
      "source": [],
      "metadata": {
        "id": "ZyAQX_DWzHMf"
      },
      "execution_count": null,
      "outputs": []
    }
  ]
}