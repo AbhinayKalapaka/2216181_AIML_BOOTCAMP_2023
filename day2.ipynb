{
  "nbformat": 4,
  "nbformat_minor": 0,
  "metadata": {
    "colab": {
      "provenance": [],
      "authorship_tag": "ABX9TyPD/Ae7hSsCiBfcBeWqRpUU",
      "include_colab_link": true
    },
    "kernelspec": {
      "name": "python3",
      "display_name": "Python 3"
    },
    "language_info": {
      "name": "python"
    }
  },
  "cells": [
    {
      "cell_type": "markdown",
      "metadata": {
        "id": "view-in-github",
        "colab_type": "text"
      },
      "source": [
        "<a href=\"https://colab.research.google.com/github/AbhinayKalapaka/AI-ML-BOOTCAMP/blob/main/day2.ipynb\" target=\"_parent\"><img src=\"https://colab.research.google.com/assets/colab-badge.svg\" alt=\"Open In Colab\"/></a>"
      ]
    },
    {
      "cell_type": "code",
      "execution_count": null,
      "metadata": {
        "colab": {
          "base_uri": "https://localhost:8080/"
        },
        "id": "s0jwJunlCRhM",
        "outputId": "6bd49048-ded5-4bf3-dbf5-5db553b87da1"
      },
      "outputs": [
        {
          "output_type": "stream",
          "name": "stdout",
          "text": [
            "arithmetic operators\n",
            "15\n",
            "5\n",
            "50\n",
            "100000\n",
            "2.0\n",
            "2\n",
            "0\n"
          ]
        }
      ],
      "source": [
        "#operators\n",
        "#arithmetic operators\n",
        "print(\"arithmetic operators\")\n",
        "a=10\n",
        "b=5\n",
        "print(a+b)\n",
        "print(a-b)\n",
        "print(a*b)\n",
        "print(a**b)\n",
        "print(a/b)\n",
        "print(a//b)\n",
        "print(a%b)"
      ]
    },
    {
      "cell_type": "code",
      "source": [
        "#comparision operator\n",
        "a==b\n",
        "a<=b\n",
        "a>=b\n",
        "a<<b\n",
        "a>>b\n",
        "a!=b\n"
      ],
      "metadata": {
        "id": "jK2iZY32DwSd"
      },
      "execution_count": null,
      "outputs": []
    },
    {
      "cell_type": "code",
      "source": [
        "#assignment operator\n",
        "a=10\n",
        "b=5\n",
        "c=a+b\n",
        "c-=a\n",
        "\n",
        "print(c)\n"
      ],
      "metadata": {
        "colab": {
          "base_uri": "https://localhost:8080/"
        },
        "id": "rJL2wKOtEMuN",
        "outputId": "4b6d9fb9-99a9-41e0-b32c-418bf75d2f1d"
      },
      "execution_count": 8,
      "outputs": [
        {
          "output_type": "stream",
          "name": "stdout",
          "text": [
            "5\n"
          ]
        }
      ]
    },
    {
      "cell_type": "code",
      "source": [
        "#logical operators\n",
        "x=True\n",
        "y=False\n",
        "print(\"x and y is\",x and y)\n",
        "print(\"x or y is\",x or y)\n",
        "print(\"x not y is\", not y)"
      ],
      "metadata": {
        "colab": {
          "base_uri": "https://localhost:8080/"
        },
        "id": "1aHQh-iNOCUW",
        "outputId": "2399cdf0-e770-4c98-89dc-8b18481b3ae0"
      },
      "execution_count": 11,
      "outputs": [
        {
          "output_type": "stream",
          "name": "stdout",
          "text": [
            "x and y is False\n",
            "x or y is True\n",
            "x not y is True\n"
          ]
        }
      ]
    },
    {
      "cell_type": "code",
      "source": [
        "#bitwise operators\n",
        "a=13 #1101\n",
        "b=14 #1110\n",
        "print(a&b)#and\n",
        "print(a|b)#or\n",
        "print(-a)#not\n",
        "print(a^b)#xor\n",
        "print(a>>2)#right shift\n",
        "print(a<<2)#left shift"
      ],
      "metadata": {
        "colab": {
          "base_uri": "https://localhost:8080/"
        },
        "id": "lRyv2QY-O9o-",
        "outputId": "67de98e7-de1b-4911-8038-86a569145658"
      },
      "execution_count": 13,
      "outputs": [
        {
          "output_type": "stream",
          "name": "stdout",
          "text": [
            "12\n",
            "15\n",
            "-13\n",
            "3\n",
            "3\n",
            "52\n"
          ]
        }
      ]
    },
    {
      "cell_type": "code",
      "source": [
        "#membership operators\n",
        "x=\"hello world\"\n",
        "print(\"w\" in x)"
      ],
      "metadata": {
        "colab": {
          "base_uri": "https://localhost:8080/"
        },
        "id": "dG-M7aNQRNB2",
        "outputId": "87114ab5-3690-4084-f260-31ccb2178b09"
      },
      "execution_count": 15,
      "outputs": [
        {
          "output_type": "stream",
          "name": "stdout",
          "text": [
            "True\n"
          ]
        }
      ]
    },
    {
      "cell_type": "code",
      "source": [
        "#identity operators\n",
        "x1=5\n",
        "y1=5\n",
        "x2=\"hello\"\n",
        "y2=\"hello\"\n",
        "x3=[1,2,3]\n",
        "y3=[1,2,3]\n",
        "print(x1 is not y1)\n",
        "print(x3 is y3)\n",
        "print(x2 is y2)"
      ],
      "metadata": {
        "colab": {
          "base_uri": "https://localhost:8080/"
        },
        "id": "iWHIkjycRih6",
        "outputId": "61f2b8bb-3e17-4c2a-f109-caba7d07f037"
      },
      "execution_count": 17,
      "outputs": [
        {
          "output_type": "stream",
          "name": "stdout",
          "text": [
            "False\n",
            "False\n",
            "True\n"
          ]
        }
      ]
    },
    {
      "cell_type": "code",
      "source": [
        "a=int(input(\"enter a number\"))\n",
        "print(a)\n",
        "b=input(\"enter string\")\n",
        "print(b)"
      ],
      "metadata": {
        "colab": {
          "base_uri": "https://localhost:8080/"
        },
        "id": "jnRIlyuXSoC3",
        "outputId": "af553150-4637-4ba4-99cb-7632a579f1fa"
      },
      "execution_count": 18,
      "outputs": [
        {
          "output_type": "stream",
          "name": "stdout",
          "text": [
            "enter a number7\n",
            "7\n",
            "enter stringabhi\n",
            "abhi\n"
          ]
        }
      ]
    },
    {
      "cell_type": "code",
      "source": [
        "#strings\n",
        "str=\"gradstellar\"\n",
        "print(str[0])\n",
        "print(str[-2])\n",
        "\n",
        "#slicing\n",
        "print(str[0:5])\n",
        "\n",
        "#from:to(n-1):2\n",
        "print(str[0:7:2])\n",
        "\n",
        "#reverse of string\n",
        "print(str[::-1])\n",
        "\n",
        "#string methods\n",
        "my_str=\"i am learning python\"\n",
        "print(my_str.upper())\n",
        "print(my_str.lower())\n",
        "print(my_str.swapcase())\n",
        "print(my_str.lstrip())\n",
        "\n",
        "#string operations\n",
        "str1=\"hello\"\n",
        "str2=\"world\"\n",
        "print(str1+str2)\n",
        "print(str1*2)\n",
        "\n",
        "#string formats\n",
        "name=\"abhi\"\n",
        "language=\"python\"\n",
        "year=2023\n",
        "print(name,\"is learning\",language,\"programming in\",year)\n",
        "\n",
        "#format\n",
        "print(\"{0} is learning {1} programming in {2}\".format(name,language,year))\n",
        "\n",
        "#placeholder '%'\n",
        "print(\"%s is learning %s in %d\"%(name,language,year))\n",
        "\n",
        "#rawstring\n",
        "print(f\"{name} is learning {language} in {year}\")"
      ],
      "metadata": {
        "colab": {
          "base_uri": "https://localhost:8080/"
        },
        "id": "Ydj0c70hTOtd",
        "outputId": "1d4669c6-ef02-457b-9f5f-8a71433fd974"
      },
      "execution_count": 44,
      "outputs": [
        {
          "output_type": "stream",
          "name": "stdout",
          "text": [
            "g\n",
            "a\n",
            "grads\n",
            "gase\n",
            "ralletsdarg\n",
            "I AM LEARNING PYTHON\n",
            "i am learning python\n",
            "I AM LEARNING PYTHON\n",
            "i am learning python\n",
            "helloworld\n",
            "hellohello\n",
            "abhi is learning python programming in 2023\n",
            "abhi is learning python programming in 2023\n",
            "abhi is learning python in 2023\n",
            "abhi is learning python in 2023\n"
          ]
        }
      ]
    },
    {
      "cell_type": "code",
      "source": [
        "#lists\n",
        "my_list=[1,2,3,4]\n",
        "my_list1=[1,\"hello\",\"3.2\"]\n",
        "my_list2=[\"apple\",\"banana\",\"cherry\"]\n",
        "\n",
        "#indexing\n",
        "print(my_list[2])\n",
        "print(my_list[-1])\n",
        "\n",
        "#slicing\n",
        "print(my_list[:3])\n",
        "\n",
        "#nested list\n",
        "N_list=[\"dragonfruit\",my_list,my_list1]\n",
        "print(N_list[0][0:6])\n",
        "print(N_list[2][1:2][0][0])\n",
        "\n",
        "#list method\n",
        "my_list.append(5)\n",
        "print(my_list)\n",
        "\n",
        "l1=[4,2,5,9,7,3,24,49,6,4,4]\n",
        "\n",
        "print(l1.count(4))\n",
        "print(len(l1))\n",
        "print(l1[::-1])\n",
        "l1.sort()\n",
        "print(l1)"
      ],
      "metadata": {
        "colab": {
          "base_uri": "https://localhost:8080/"
        },
        "id": "EgjiOBTYdM13",
        "outputId": "03db88d8-407b-459b-b8f0-deff30e028ab"
      },
      "execution_count": 67,
      "outputs": [
        {
          "output_type": "stream",
          "name": "stdout",
          "text": [
            "3\n",
            "4\n",
            "[1, 2, 3]\n",
            "dragon\n",
            "h\n",
            "[1, 2, 3, 4, 5]\n",
            "3\n",
            "11\n",
            "[4, 4, 6, 49, 24, 3, 7, 9, 5, 2, 4]\n",
            "[2, 3, 4, 4, 4, 5, 6, 7, 9, 24, 49]\n"
          ]
        }
      ]
    }
  ]
}